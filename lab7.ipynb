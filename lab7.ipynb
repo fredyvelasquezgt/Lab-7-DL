{
 "cells": [
  {
   "cell_type": "code",
   "execution_count": null,
   "source": [],
   "outputs": [],
   "metadata": {}
  },
  {
   "cell_type": "markdown",
   "source": [
    "# Laboratorio 7 - Deep Learning\n",
    "\n",
    "## Autores\n",
    "\n",
    "- Angel Higueros 20460\n",
    "- Fredy Velasquez 201011\n",
    "\n"
   ],
   "metadata": {}
  },
  {
   "cell_type": "markdown",
   "source": [
    "## Task 1 - Práctica\n",
    "Considere las arquitecturas conversadas durante la clase, con ello realice una implementación de dos arquitecturas\n",
    "usando PyTorch\n",
    "1. Implemente la arquitectura de LeNet-5 para resolver el problema de clasificación del daset de dígitos escritos a mano llamado mnist dataset\n",
    "2. Implemente la arquitectura de AlexNet para resolver el problema de clasificación usando el dataset de imagenes llamado CIFAR10 dataset.\n",
    "\n",
    "Para cada implementación defina y justifique (dentro del notebook) una métrica de desempeño. Además responda\n",
    "(en su notebook) \n",
    "\n",
    "\n",
    "Recuerde justificar y/o expandir su respuesta:\n",
    "- ¿Cuál es la diferencia principal entre ambas arquitecturas?\n",
    "- ¿Podría usarse LeNet-5 para un problema como el que resolvió usando AlexNet? ¿Y viceversa?\n",
    "- Indique claramente qué le pareció más interesante de cada arquitectura\n",
    "\n",
    "## Task 2 - Teoría\n",
    "Responda claramente y con una extensión adecuada las siguientes preguntas:\n",
    "1. Investigue e indique en qué casos son útiles las siguientes arquitecturas, agregue imagenes si esto le ayuda a una mejor comprensión\n",
    "- GoogleNet (Inception)\n",
    "\n",
    "La arquitectura GoogleNet es útil en casos donde se busca una red profunda con una computación eficiente. Su característica distintiva es el uso de módulos de \"inception\" que consisten en múltiples convoluciones y concatenaciones de características de diferentes tamaños de kernel en paralelo. Esto permite que la red capture características a diferentes escalas y resoluciones, lo que es útil en tareas de clasificación de imágenes, detección de objetos y segmentación semántica. GoogleNet es especialmente efectiva en la optimización de uso de recursos computacionales.\n",
    "\n",
    "- DenseNet (Densely Connected Convolutional Networks)\n",
    "- MobileNet\n",
    "- EfficientNet\n",
    "\n",
    "2. ¿Cómo la arquitectura de transformers puede ser usada para image recognition?"
   ],
   "metadata": {}
  }
 ],
 "metadata": {
  "orig_nbformat": 4,
  "language_info": {
   "name": "python"
  }
 },
 "nbformat": 4,
 "nbformat_minor": 2
}